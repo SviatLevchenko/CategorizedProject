{
 "cells": [
  {
   "cell_type": "code",
   "id": "initial_id",
   "metadata": {
    "collapsed": true,
    "ExecuteTime": {
     "end_time": "2024-08-21T17:17:03.740121Z",
     "start_time": "2024-08-21T17:17:03.734078Z"
    }
   },
   "source": "import psycopg2",
   "outputs": [],
   "execution_count": 15
  },
  {
   "metadata": {
    "ExecuteTime": {
     "end_time": "2024-08-21T17:17:04.568094Z",
     "start_time": "2024-08-21T17:17:04.507594Z"
    }
   },
   "cell_type": "code",
   "source": [
    "# Подключение к PostgreSQL без указания базы данных\n",
    "conn = psycopg2.connect(\n",
    "    host=\"localhost\",\n",
    "    database=\"postgres\",  # Подключаемся к стандартной базе данных\n",
    "    user=\"postgres\",\n",
    "    password=\"1\"\n",
    ")\n",
    "\n",
    "conn.autocommit = True  # Включаем режим автокоммита для выполнения CREATE DATABASE\n",
    "cursor = conn.cursor()"
   ],
   "id": "dc17abd3915e6413",
   "outputs": [],
   "execution_count": 16
  },
  {
   "metadata": {
    "ExecuteTime": {
     "end_time": "2024-08-21T17:17:05.393701Z",
     "start_time": "2024-08-21T17:17:05.351421Z"
    }
   },
   "cell_type": "code",
   "source": [
    "# Create new database\n",
    "cursor.execute(\"CREATE DATABASE knowledge;\")\n",
    "cursor.close()\n",
    "conn.close()"
   ],
   "id": "100b2cca49a74dc0",
   "outputs": [
    {
     "ename": "DuplicateDatabase",
     "evalue": "database \"knowledge\" already exists\n",
     "output_type": "error",
     "traceback": [
      "\u001B[1;31m---------------------------------------------------------------------------\u001B[0m",
      "\u001B[1;31mDuplicateDatabase\u001B[0m                         Traceback (most recent call last)",
      "Cell \u001B[1;32mIn[17], line 2\u001B[0m\n\u001B[0;32m      1\u001B[0m \u001B[38;5;66;03m# Create new database\u001B[39;00m\n\u001B[1;32m----> 2\u001B[0m \u001B[43mcursor\u001B[49m\u001B[38;5;241;43m.\u001B[39;49m\u001B[43mexecute\u001B[49m\u001B[43m(\u001B[49m\u001B[38;5;124;43m\"\u001B[39;49m\u001B[38;5;124;43mCREATE DATABASE knowledge;\u001B[39;49m\u001B[38;5;124;43m\"\u001B[39;49m\u001B[43m)\u001B[49m\n\u001B[0;32m      3\u001B[0m cursor\u001B[38;5;241m.\u001B[39mclose()\n\u001B[0;32m      4\u001B[0m conn\u001B[38;5;241m.\u001B[39mclose()\n",
      "\u001B[1;31mDuplicateDatabase\u001B[0m: database \"knowledge\" already exists\n"
     ]
    }
   ],
   "execution_count": 17
  },
  {
   "metadata": {
    "ExecuteTime": {
     "end_time": "2024-08-21T17:17:13.778107Z",
     "start_time": "2024-08-21T17:17:13.772304Z"
    }
   },
   "cell_type": "code",
   "source": [
    "# Функция для подключения к базе данных\n",
    "def connect_db():\n",
    "    return psycopg2.connect(\n",
    "        dbname=\"knowledge\",  # Your database name\n",
    "        user=\"postgres\",  # Your username\n",
    "        password=\"1\",  # Your password\n",
    "        host=\"localhost\"  # Host, use \"localhost\" if running locally\n",
    "    )"
   ],
   "id": "a91f7312fcc1fdc7",
   "outputs": [],
   "execution_count": 18
  },
  {
   "metadata": {
    "ExecuteTime": {
     "end_time": "2024-08-21T17:17:15.820740Z",
     "start_time": "2024-08-21T17:17:15.813181Z"
    }
   },
   "cell_type": "code",
   "source": [
    "# Функция для создания таблиц в базе данных\n",
    "def create_database_structure():\n",
    "    conn = connect_db()\n",
    "    cursor = conn.cursor()\n",
    "\n",
    "    # Создаем таблицы\n",
    "    cursor.execute(\"\"\"\n",
    "        CREATE TABLE IF NOT EXISTS knowledge_groups (\n",
    "            id SERIAL PRIMARY KEY,\n",
    "            category_name VARCHAR(255) UNIQUE NOT NULL\n",
    "        );\n",
    "    \"\"\")\n",
    "\n",
    "    cursor.execute(\"\"\"\n",
    "        CREATE TABLE IF NOT EXISTS knowledge_items (\n",
    "            id SERIAL PRIMARY KEY,\n",
    "            item_name VARCHAR(255) UNIQUE NOT NULL,\n",
    "            group_id INTEGER REFERENCES knowledge_groups(id) ON DELETE CASCADE,\n",
    "            is_known BOOLEAN DEFAULT FALSE\n",
    "        );\n",
    "    \"\"\")\n",
    "\n",
    "    cursor.execute(\"\"\"\n",
    "        CREATE TABLE IF NOT EXISTS learning_units (\n",
    "            id SERIAL PRIMARY KEY,\n",
    "            main_knowledge INTEGER REFERENCES knowledge_items(id) ON DELETE CASCADE,\n",
    "            text VARCHAR(500) NOT NULL,\n",
    "            group_name VARCHAR(255) NOT NULL\n",
    "        );\n",
    "    \"\"\")\n",
    "\n",
    "    cursor.execute(\"\"\"\n",
    "        CREATE TABLE IF NOT EXISTS unit_knowledges (\n",
    "            id SERIAL PRIMARY KEY,\n",
    "            unit_id INTEGER REFERENCES learning_units(id) ON DELETE CASCADE,\n",
    "            knowledge_id INTEGER REFERENCES knowledge_items(id) ON DELETE CASCADE\n",
    "        );\n",
    "    \"\"\")\n",
    "\n",
    "    conn.commit()\n",
    "    cursor.close()\n",
    "    conn.close()"
   ],
   "id": "14b5e9abcf354ad1",
   "outputs": [],
   "execution_count": 19
  },
  {
   "metadata": {
    "ExecuteTime": {
     "end_time": "2024-08-21T17:16:20.332205Z",
     "start_time": "2024-08-21T17:16:20.324189Z"
    }
   },
   "cell_type": "code",
   "source": [
    "def check_database_structure():\n",
    "    conn = connect_db()\n",
    "    cursor = conn.cursor()\n",
    "\n",
    "    # Check for the presence of tables\n",
    "    cursor.execute(\"\"\"\n",
    "        SELECT table_name FROM information_schema.tables\n",
    "        WHERE table_schema = 'public';\n",
    "    \"\"\")\n",
    "    tables = cursor.fetchall()\n",
    "    print(\"\\nTables in the database:\")\n",
    "    for table in tables:\n",
    "        print(f\"- {table[0]}\")\n",
    "\n",
    "    # Check the structure of each table\n",
    "    for table in tables:\n",
    "        print(f\"\\nStructure of table {table[0]}:\")\n",
    "        cursor.execute(f\"\"\"\n",
    "            SELECT column_name, data_type, is_nullable, column_default\n",
    "            FROM information_schema.columns\n",
    "            WHERE table_name = '{table[0]}';\n",
    "        \"\"\")\n",
    "        columns = cursor.fetchall()\n",
    "        for column in columns:\n",
    "            print(f\"  Column: {column[0]}\")\n",
    "            print(f\"    Data type: {column[1]}\")\n",
    "            print(f\"    Nullable: {column[2]}\")\n",
    "            print(f\"    Default value: {column[3]}\")\n",
    "    \n",
    "    conn.close()"
   ],
   "id": "babc34df58a306b0",
   "outputs": [],
   "execution_count": 13
  },
  {
   "metadata": {
    "ExecuteTime": {
     "end_time": "2024-08-21T17:17:34.874814Z",
     "start_time": "2024-08-21T17:17:34.814148Z"
    }
   },
   "cell_type": "code",
   "source": [
    "# Run the database structure check function\n",
    "if __name__ == \"__main__\":\n",
    "    check_database_structure()"
   ],
   "id": "7c0662c2d12b63e7",
   "outputs": [
    {
     "name": "stdout",
     "output_type": "stream",
     "text": [
      "\n",
      "Tables in the database:\n"
     ]
    }
   ],
   "execution_count": 20
  },
  {
   "metadata": {},
   "cell_type": "code",
   "outputs": [],
   "execution_count": null,
   "source": "",
   "id": "322888a4c0f5a3c7"
  }
 ],
 "metadata": {
  "kernelspec": {
   "display_name": "Python 3",
   "language": "python",
   "name": "python3"
  },
  "language_info": {
   "codemirror_mode": {
    "name": "ipython",
    "version": 2
   },
   "file_extension": ".py",
   "mimetype": "text/x-python",
   "name": "python",
   "nbconvert_exporter": "python",
   "pygments_lexer": "ipython2",
   "version": "2.7.6"
  }
 },
 "nbformat": 4,
 "nbformat_minor": 5
}
